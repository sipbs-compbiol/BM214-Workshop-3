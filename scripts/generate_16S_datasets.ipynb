{
 "cells": [
  {
   "cell_type": "markdown",
   "id": "de26688a",
   "metadata": {},
   "source": [
    "# Generate 16S datasets\n",
    "\n",
    "This notebook will generate groups of four 16S sequence files, one file per organism:\n",
    "\n",
    "- _Salmonella enterica_\n",
    "- _E. coli_\n",
    "- _Staphylococcus aureus_\n",
    "- _Bacillus cereus_\n",
    "\n",
    "and label these as morning/afternoon sessions by bay and (slightly disguised) organism, e.g.\n",
    "\n",
    "`AM_Bay_01_TF.fasta` for _Salmonella enterica_ (progressing the first letter of the organism by one in the alphabet).\n",
    "\n",
    "These datasets are intended for [exercise 1 of the workshop](https://sipbs-compbiol.github.io/BM214-Workshop-3/part-01_16s.html), identifying an unknown by 16S sequence."
   ]
  },
  {
   "cell_type": "code",
   "execution_count": 1,
   "id": "bcb2b312",
   "metadata": {},
   "outputs": [],
   "source": [
    "# Python imports\n",
    "import random\n",
    "\n",
    "from pathlib import Path\n",
    "\n",
    "from Bio import SeqIO"
   ]
  },
  {
   "cell_type": "code",
   "execution_count": 2,
   "id": "3dbaf1e2",
   "metadata": {},
   "outputs": [],
   "source": [
    "# Parameters\n",
    "SEQFILES = {\"enterica\": Path(\"../assets/sequences/salmonella_16s.fasta\"),\n",
    "            \"ecoli\": Path(\"../assets/sequences/e_coli_16s.fasta\"),\n",
    "            \"staph\": Path(\"../assets/sequences/staph_aureus_16s.fasta\"),\n",
    "            \"bacillus\": Path(\"../assets/sequences/bacillus_cereus_16s.fasta\"),\n",
    "            \"enterica1\": Path(\"../assets/sequences/salmonella_16s.fasta\"),\n",
    "            \"ecoli1\": Path(\"../assets/sequences/e_coli_16s.fasta\")\n",
    "           }  # Paths to 16 sequence files\n",
    "            \n",
    "BAYCOUNT = 40  # Number of bays to generate sequence sets for"
   ]
  },
  {
   "cell_type": "code",
   "execution_count": 3,
   "id": "45d313a3",
   "metadata": {},
   "outputs": [
    {
     "name": "stdout",
     "output_type": "stream",
     "text": [
      "TF: 12 sequences\n",
      "FD: 3 sequences\n",
      "TB: 5 sequences\n",
      "CD: 6 sequences\n",
      "RD: 12 sequences\n",
      "DB: 3 sequences\n"
     ]
    }
   ],
   "source": [
    "# Load the 16S sequence files for each organism\n",
    "code = {\"enterica\": \"TF\", \"ecoli\": \"FD\", \"staph\": \"TB\", \"bacillus\": \"CD\", \"enterica1\": \"RD\", \"ecoli1\": \"DB\"}\n",
    "seqdata = {code[key]:list(SeqIO.parse(val, \"fasta\")) for key, val in SEQFILES.items()}\n",
    "\n",
    "# Sanity check number of reference sequences\n",
    "for key, val in seqdata.items():\n",
    "    print(f\"{key}: {len(val)} sequences\")"
   ]
  },
  {
   "cell_type": "code",
   "execution_count": 4,
   "id": "67d70360",
   "metadata": {},
   "outputs": [],
   "source": [
    "# Generate random choice of four 16S sequences, one per organism, for each bay\n",
    "bay_sessions = [f\"{session}_Bay_{baynum+1:02d}\" for session in (\"AM\", \"PM\") for baynum in range(BAYCOUNT)]\n",
    "\n",
    "for bay_session in bay_sessions:\n",
    "    seqlist = [(key, random.choice(val)) for key, val in seqdata.items()]\n",
    "    for code, seq in seqlist:\n",
    "        seq.id = f\"{bay_session}_{code}\"\n",
    "        seq.description = \"BM214 Laboratory 3 16S sequence\"\n",
    "        opath = Path(f\"../assets/sequences/{bay_session}/{bay_session}_{code}.fasta\")\n",
    "        opath.parents[0].mkdir(parents=True, exist_ok=True)\n",
    "        SeqIO.write([seq], opath, \"fasta\")"
   ]
  },
  {
   "cell_type": "code",
   "execution_count": null,
   "id": "1e8b4ccc",
   "metadata": {},
   "outputs": [],
   "source": []
  }
 ],
 "metadata": {
  "kernelspec": {
   "display_name": "Python 3 (ipykernel)",
   "language": "python",
   "name": "python3"
  },
  "language_info": {
   "codemirror_mode": {
    "name": "ipython",
    "version": 3
   },
   "file_extension": ".py",
   "mimetype": "text/x-python",
   "name": "python",
   "nbconvert_exporter": "python",
   "pygments_lexer": "ipython3",
   "version": "3.13.1"
  }
 },
 "nbformat": 4,
 "nbformat_minor": 5
}
